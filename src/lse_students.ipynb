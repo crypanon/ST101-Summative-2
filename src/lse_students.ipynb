{
 "cells": [
  {
   "cell_type": "markdown",
   "id": "c656def0",
   "metadata": {},
   "source": [
    "## Q2. Statistics on students (25 marks)\n",
    "\n",
    "### Data description\n",
    "\n",
    "In this question, we will work on the `lse_students.csv` in the data folder which contains the number of undergraduate students by programme scrapped from Table C of https://info.lse.ac.uk/staff/divisions/Planning-Division/Management-Information/Statistics-on-Students.\n",
    "\n",
    "\n",
    "The table has the following columns:\n",
    "* `programme`: the programme that the students were in\n",
    "* `year`: year of study. Possible values: '1st Year', '2nd Year', '3rd Year', 'Final Year', 'Subsequent Years'\n",
    "* `2018`: number of students in the year 2018/19\n",
    "* `2019`: number of students in the year 2019/20\n",
    "* `2020`: number of students in the year 2020/21\n",
    "* `2021`: number of students in the year 2021/22\n",
    "* `2022`: number of students in the year 2022/23\n",
    "\n",
    "Note: If there is any discrepancy between the given CSV file and Table C from the given link, please use the numbers from the given CSV file and assume the given data is correct.\n",
    "\n",
    "---\n",
    "\n",
    "### Instructions\n",
    "\n",
    "Using `pandas` functionality only, answer the questions below:\n",
    "\n",
    "1. (2 marks) Load in the data to a `pandas` data frame"
   ]
  },
  {
   "cell_type": "code",
   "execution_count": null,
   "id": "717ed6ed",
   "metadata": {},
   "outputs": [],
   "source": [
    "## your attempt"
   ]
  },
  {
   "cell_type": "markdown",
   "id": "b1365879",
   "metadata": {},
   "source": [
    "2. (4 marks) If there is na data in the data frame from part [1] for the number of students, fill them by 0. Ensure the number of students in the resulting data frame is integer, not float\n",
    "    * Note: you may want to search online to find out how to fill in na data"
   ]
  },
  {
   "cell_type": "code",
   "execution_count": null,
   "id": "0149a116",
   "metadata": {},
   "outputs": [],
   "source": [
    "## your attempt"
   ]
  },
  {
   "cell_type": "markdown",
   "id": "fad03f66",
   "metadata": {},
   "source": [
    "Please use the data frame from part [2] and `pandas` functionality to answer the remaining questions:\n",
    "\n",
    "3. (3 marks) How many 1st year students were in \"BSc in Accounting and Finance\" in 2022/23?"
   ]
  },
  {
   "cell_type": "code",
   "execution_count": null,
   "id": "291c7da9",
   "metadata": {},
   "outputs": [],
   "source": [
    "## your attempt"
   ]
  },
  {
   "cell_type": "markdown",
   "id": "3264ee83",
   "metadata": {},
   "source": [
    "4. (4 marks) How many 1st year UG students were there in 2022/23?"
   ]
  },
  {
   "cell_type": "code",
   "execution_count": null,
   "id": "a4568fab",
   "metadata": {},
   "outputs": [],
   "source": [
    "## your attempt"
   ]
  },
  {
   "cell_type": "markdown",
   "id": "7a3fadbf",
   "metadata": {},
   "source": [
    "5. (6 marks) What are the top 5 programmes that have the most number of undergraduate students in 2022/23? Hint:\n",
    "    * (a) use `groupby()` on the data frame to calculate the sum of the number of students per programme over years of study in a particular year \n",
    "    * (b) sort the result from (a) in descending order by using `sort_values()` and keep the first 5 rows"
   ]
  },
  {
   "cell_type": "code",
   "execution_count": null,
   "id": "cf2d9e29",
   "metadata": {},
   "outputs": [],
   "source": [
    "## your attempt"
   ]
  },
  {
   "cell_type": "markdown",
   "id": "22186d0c",
   "metadata": {},
   "source": [
    "6. (6 marks) Which programmes were launched in 2021/22 or 2022/23?"
   ]
  },
  {
   "cell_type": "code",
   "execution_count": null,
   "id": "b43678f3",
   "metadata": {},
   "outputs": [],
   "source": [
    "## your attempt"
   ]
  },
  {
   "cell_type": "markdown",
   "id": "d8e14177",
   "metadata": {},
   "source": [
    "If you have made any assumptions when answering the questions, please state them as well (in markdown cells)."
   ]
  },
  {
   "cell_type": "markdown",
   "id": "c9a17944",
   "metadata": {},
   "source": [
    "---\n",
    "\n",
    "### Note\n",
    "\n",
    "* You need to use `pandas` functions or methods to do most (if not all) of the data cleaning and data analysis to answer the questions. Essentially, you cannot use \"eyeballing\", or Excel to get the answers (You are welcome to use them to _verify_ your result though)\n",
    "* Your code should be vectorised and you should avoid using loops if possible\n",
    "* You can use any functions or methods from `pandas`. You can also search online as much as you want for this question related to `pandas` (e.g. find out how to use `groupby()` or `sort_values()`). _However_, if you are referencing other people's code/answer/logic, please state it in your answer\n",
    "* Please make good use of the markdown cells for textual answers, all the outputs (e.g. tables) _must be displayed_ in the Jupyter Notebook\n",
    "    * Feel free to add more code cells or markdown cells if you want to"
   ]
  }
 ],
 "metadata": {
  "kernelspec": {
   "display_name": "Python 3 (ipykernel)",
   "language": "python",
   "name": "python3"
  },
  "language_info": {
   "codemirror_mode": {
    "name": "ipython",
    "version": 3
   },
   "file_extension": ".py",
   "mimetype": "text/x-python",
   "name": "python",
   "nbconvert_exporter": "python",
   "pygments_lexer": "ipython3",
   "version": "3.8.13"
  }
 },
 "nbformat": 4,
 "nbformat_minor": 5
}
