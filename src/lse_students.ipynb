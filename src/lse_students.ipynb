{
 "cells": [
  {
   "cell_type": "markdown",
   "id": "c656def0",
   "metadata": {},
   "source": [
    "## Q2. Statistics on students (25 marks)\n",
    "\n",
    "### Data description\n",
    "\n",
    "In this question, we will work on the `lse_students.csv` in the data folder which contains the number of undergraduate students by programme scrapped from Table C of https://info.lse.ac.uk/staff/divisions/Planning-Division/Management-Information/Statistics-on-Students.\n",
    "\n",
    "\n",
    "The table has the following columns:\n",
    "* `programme`: the programme that the students were in\n",
    "* `year`: year of study. Possible values: '1st Year', '2nd Year', '3rd Year', 'Final Year', 'Subsequent Years'\n",
    "* `2018`: number of students in the year 2018/19\n",
    "* `2019`: number of students in the year 2019/20\n",
    "* `2020`: number of students in the year 2020/21\n",
    "* `2021`: number of students in the year 2021/22\n",
    "* `2022`: number of students in the year 2022/23\n",
    "\n",
    "Note: If there is any discrepancy between the given CSV file and Table C from the given link, please use the numbers from the given CSV file and assume the given data is correct.\n",
    "\n",
    "---\n",
    "\n",
    "### Instructions\n",
    "\n",
    "Using `pandas` functionality only, answer the questions below:\n",
    "\n",
    "1. (2 marks) Load in the data to a `pandas` data frame"
   ]
  },
  {
   "cell_type": "code",
   "execution_count": 1,
   "id": "717ed6ed",
   "metadata": {},
   "outputs": [],
   "source": [
    "import pandas as pd\n",
    "\n",
    "df = pd.read_csv('../data/lse_students.csv')"
   ]
  },
  {
   "cell_type": "markdown",
   "id": "b1365879",
   "metadata": {},
   "source": [
    "2. (4 marks) If there is na data in the data frame from part [1] for the number of students, fill them by 0. Ensure the number of students in the resulting data frame is integer, not float\n",
    "    * Note: you may want to search online to find out how to fill in na data"
   ]
  },
  {
   "cell_type": "code",
   "execution_count": 5,
   "id": "0149a116",
   "metadata": {},
   "outputs": [
    {
     "data": {
      "text/html": [
       "<div>\n",
       "<style scoped>\n",
       "    .dataframe tbody tr th:only-of-type {\n",
       "        vertical-align: middle;\n",
       "    }\n",
       "\n",
       "    .dataframe tbody tr th {\n",
       "        vertical-align: top;\n",
       "    }\n",
       "\n",
       "    .dataframe thead th {\n",
       "        text-align: right;\n",
       "    }\n",
       "</style>\n",
       "<table border=\"1\" class=\"dataframe\">\n",
       "  <thead>\n",
       "    <tr style=\"text-align: right;\">\n",
       "      <th></th>\n",
       "      <th>2018</th>\n",
       "      <th>2019</th>\n",
       "      <th>2020</th>\n",
       "      <th>2021</th>\n",
       "      <th>2022</th>\n",
       "    </tr>\n",
       "  </thead>\n",
       "  <tbody>\n",
       "    <tr>\n",
       "      <th>0</th>\n",
       "      <td>147</td>\n",
       "      <td>116</td>\n",
       "      <td>144</td>\n",
       "      <td>116</td>\n",
       "      <td>113</td>\n",
       "    </tr>\n",
       "    <tr>\n",
       "      <th>1</th>\n",
       "      <td>126</td>\n",
       "      <td>152</td>\n",
       "      <td>120</td>\n",
       "      <td>150</td>\n",
       "      <td>122</td>\n",
       "    </tr>\n",
       "    <tr>\n",
       "      <th>2</th>\n",
       "      <td>138</td>\n",
       "      <td>117</td>\n",
       "      <td>148</td>\n",
       "      <td>121</td>\n",
       "      <td>139</td>\n",
       "    </tr>\n",
       "    <tr>\n",
       "      <th>3</th>\n",
       "      <td>72</td>\n",
       "      <td>77</td>\n",
       "      <td>74</td>\n",
       "      <td>81</td>\n",
       "      <td>85</td>\n",
       "    </tr>\n",
       "    <tr>\n",
       "      <th>4</th>\n",
       "      <td>68</td>\n",
       "      <td>68</td>\n",
       "      <td>76</td>\n",
       "      <td>71</td>\n",
       "      <td>71</td>\n",
       "    </tr>\n",
       "    <tr>\n",
       "      <th>...</th>\n",
       "      <td>...</td>\n",
       "      <td>...</td>\n",
       "      <td>...</td>\n",
       "      <td>...</td>\n",
       "      <td>...</td>\n",
       "    </tr>\n",
       "    <tr>\n",
       "      <th>133</th>\n",
       "      <td>38</td>\n",
       "      <td>37</td>\n",
       "      <td>58</td>\n",
       "      <td>53</td>\n",
       "      <td>51</td>\n",
       "    </tr>\n",
       "    <tr>\n",
       "      <th>134</th>\n",
       "      <td>47</td>\n",
       "      <td>40</td>\n",
       "      <td>39</td>\n",
       "      <td>59</td>\n",
       "      <td>50</td>\n",
       "    </tr>\n",
       "    <tr>\n",
       "      <th>135</th>\n",
       "      <td>31</td>\n",
       "      <td>46</td>\n",
       "      <td>36</td>\n",
       "      <td>40</td>\n",
       "      <td>56</td>\n",
       "    </tr>\n",
       "    <tr>\n",
       "      <th>136</th>\n",
       "      <td>3</td>\n",
       "      <td>0</td>\n",
       "      <td>0</td>\n",
       "      <td>0</td>\n",
       "      <td>0</td>\n",
       "    </tr>\n",
       "    <tr>\n",
       "      <th>137</th>\n",
       "      <td>17</td>\n",
       "      <td>4</td>\n",
       "      <td>0</td>\n",
       "      <td>0</td>\n",
       "      <td>0</td>\n",
       "    </tr>\n",
       "  </tbody>\n",
       "</table>\n",
       "<p>138 rows × 5 columns</p>\n",
       "</div>"
      ],
      "text/plain": [
       "     2018  2019  2020  2021  2022\n",
       "0     147   116   144   116   113\n",
       "1     126   152   120   150   122\n",
       "2     138   117   148   121   139\n",
       "3      72    77    74    81    85\n",
       "4      68    68    76    71    71\n",
       "..    ...   ...   ...   ...   ...\n",
       "133    38    37    58    53    51\n",
       "134    47    40    39    59    50\n",
       "135    31    46    36    40    56\n",
       "136     3     0     0     0     0\n",
       "137    17     4     0     0     0\n",
       "\n",
       "[138 rows x 5 columns]"
      ]
     },
     "execution_count": 5,
     "metadata": {},
     "output_type": "execute_result"
    }
   ],
   "source": [
    "df = df.fillna(0)\n",
    "df[['2018','2019','2020','2021','2022']].astype(int)"
   ]
  },
  {
   "cell_type": "markdown",
   "id": "fad03f66",
   "metadata": {},
   "source": [
    "Please use the data frame from part [2] and `pandas` functionality to answer the remaining questions:\n",
    "\n",
    "3. (3 marks) How many 1st year students were in \"BSc in Accounting and Finance\" in 2022/23?"
   ]
  },
  {
   "cell_type": "code",
   "execution_count": 6,
   "id": "291c7da9",
   "metadata": {},
   "outputs": [
    {
     "name": "stdout",
     "output_type": "stream",
     "text": [
      "113\n"
     ]
    }
   ],
   "source": [
    "print(df[(df['programme']=='BSc in Accounting and Finance') & (df['year']=='1st Year')]['2022'].values[0])"
   ]
  },
  {
   "cell_type": "markdown",
   "id": "3264ee83",
   "metadata": {},
   "source": [
    "4. (4 marks) How many 1st year UG students were there in 2022/23?"
   ]
  },
  {
   "cell_type": "code",
   "execution_count": 7,
   "id": "a4568fab",
   "metadata": {},
   "outputs": [
    {
     "name": "stdout",
     "output_type": "stream",
     "text": [
      "2079\n"
     ]
    }
   ],
   "source": [
    "print(sum(df[(df['year']=='1st Year')]['2022']))"
   ]
  },
  {
   "cell_type": "markdown",
   "id": "7a3fadbf",
   "metadata": {},
   "source": [
    "5. (6 marks) What are the top 5 programmes that have the most number of undergraduate students in 2022/23? Hint:\n",
    "    * (a) use `groupby()` on the data frame to calculate the sum of the number of students per programme over years of study in a particular year \n",
    "    * (b) sort the result from (a) in descending order by using `sort_values()` and keep the first 5 rows"
   ]
  },
  {
   "cell_type": "code",
   "execution_count": 8,
   "id": "cf2d9e29",
   "metadata": {},
   "outputs": [
    {
     "name": "stdout",
     "output_type": "stream",
     "text": [
      "programme\n",
      "BSc in Economics                    716\n",
      "LLB in Laws                         552\n",
      "BSc in Management                   516\n",
      "BSc in Accounting and Finance       374\n",
      "BSc in Mathematics and Economics    221\n",
      "Name: 2022, dtype: int64\n"
     ]
    }
   ],
   "source": [
    "grouped = df.groupby('programme')['2022'].sum()\n",
    "top_5 = grouped.sort_values(ascending=False).head(5)\n",
    "print(top_5)"
   ]
  },
  {
   "cell_type": "markdown",
   "id": "22186d0c",
   "metadata": {},
   "source": [
    "6. (6 marks) Which programmes were launched in 2021/22 or 2022/23?"
   ]
  },
  {
   "cell_type": "code",
   "execution_count": 10,
   "id": "a9a04b71",
   "metadata": {},
   "outputs": [
    {
     "name": "stdout",
     "output_type": "stream",
     "text": [
      "11                 BSc in Data Science\n",
      "53         BSc in History and Politics\n",
      "99    BSc in Politics and Data Science\n",
      "Name: programme, dtype: object\n",
      "\n",
      "The programmes that were launched in 2021/22 or 2022/23 are BSc in Data Science, BSc in History and Politics, and BSc in Politics and Data Science\n"
     ]
    }
   ],
   "source": [
    "launched = df[(df['year']=='1st Year')&(((df['2020']==0) & (df['2021']!=0)) | ((df['2021']==0) & (df['2022']!=0)))]\n",
    "\n",
    "#formatted simply\n",
    "print(launched['programme'])\n",
    "\n",
    "#formatted nicely\n",
    "print(f\"\\nThe programmes that were launched in 2021/22 or 2022/23 are {launched['programme'].iloc[0]}, \"\\\n",
    "      f\"{launched['programme'].iloc[1]}, and {launched['programme'].iloc[2]}\")"
   ]
  },
  {
   "cell_type": "markdown",
   "id": "d8e14177",
   "metadata": {},
   "source": [
    "If you have made any assumptions when answering the questions, please state them as well (in markdown cells)."
   ]
  },
  {
   "cell_type": "markdown",
   "id": "c9a17944",
   "metadata": {},
   "source": [
    "---\n",
    "\n",
    "### Note\n",
    "\n",
    "* You need to use `pandas` functions or methods to do most (if not all) of the data cleaning and data analysis to answer the questions. Essentially, you cannot use \"eyeballing\", or Excel to get the answers (You are welcome to use them to _verify_ your result though)\n",
    "* Your code should be vectorised and you should avoid using loops if possible\n",
    "* You can use any functions or methods from `pandas`. You can also search online as much as you want for this question related to `pandas` (e.g. find out how to use `groupby()` or `sort_values()`). _However_, if you are referencing other people's code/answer/logic, please state it in your answer\n",
    "* Please make good use of the markdown cells for textual answers, all the outputs (e.g. tables) _must be displayed_ in the Jupyter Notebook\n",
    "    * Feel free to add more code cells or markdown cells if you want to"
   ]
  }
 ],
 "metadata": {
  "kernelspec": {
   "display_name": "Python 3 (ipykernel)",
   "language": "python",
   "name": "python3"
  },
  "language_info": {
   "codemirror_mode": {
    "name": "ipython",
    "version": 3
   },
   "file_extension": ".py",
   "mimetype": "text/x-python",
   "name": "python",
   "nbconvert_exporter": "python",
   "pygments_lexer": "ipython3",
   "version": "3.11.5"
  }
 },
 "nbformat": 4,
 "nbformat_minor": 5
}
