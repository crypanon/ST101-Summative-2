{
 "cells": [
  {
   "cell_type": "markdown",
   "id": "8427bdfa",
   "metadata": {},
   "source": [
    "## Q1. simulation (15 marks)\n",
    "\n",
    "---\n",
    "\n",
    "### Instructions\n",
    "\n",
    "In the code block below, write code to _estimate_ the probability via _simulation_ for the following question:\n",
    "\n",
    "> A die is thrown five times in a row. The score of each throw is one of the numbers 1, 2, 3, 4, 5 or 6 with the same probability. What is the probability that the scores are in ascending order, i.e. that each throw gives the same, or a higher score than the previous one?\n",
    "\n",
    "Please also run the code and use the `print()` function to printout the resulting estimated probability."
   ]
  },
  {
   "cell_type": "code",
   "execution_count": 4,
   "id": "bdaf7d26",
   "metadata": {},
   "outputs": [
    {
     "name": "stdout",
     "output_type": "stream",
     "text": [
      "The probability that the scores are in ascending order is approximately 0.03339\n"
     ]
    }
   ],
   "source": [
    "import random\n",
    "\n",
    "def roll():\n",
    "    '''\n",
    "    Simulates a six-sided dice being rolled\n",
    "    returns: int, a random integer ranging from 1 to 6 showing the result of the dice being rolled\n",
    "    '''\n",
    "    return random.randint(1,6)\n",
    "\n",
    "def experiment():\n",
    "    '''\n",
    "    Simulates a six-sided dice being rolled 5 times and checks if the scores are ascending\n",
    "    returns: bool, True if outcomes are never a lower value than the previous outcome, \n",
    "                   False if outcomes are ever a lower value than the previous outcome\n",
    "    '''\n",
    "    rolls = []\n",
    "    for i in range(5):\n",
    "        rolls.append(roll())\n",
    "\n",
    "    for i in range(len(rolls)-1):\n",
    "        if rolls[i] > rolls[i+1]:\n",
    "            return False\n",
    "    return True\n",
    "\n",
    "def simulation(num_trials):\n",
    "    '''\n",
    "    Repeats the experiment as many times as called and returns the probability of an experiment being successful\n",
    "    num_trials: int, positive integer\n",
    "    returns: float, probability of an experiment being successful\n",
    "    '''\n",
    "    true = 0\n",
    "    for i in range(num_trials):\n",
    "        if experiment():\n",
    "            true += 1\n",
    "    return true/num_trials\n",
    "\n",
    "print(f'The probability that the scores are in ascending order is approximately {round(simulation(100000), 5)}')"
   ]
  },
  {
   "cell_type": "markdown",
   "id": "b3adbe25",
   "metadata": {},
   "source": [
    "---\n",
    "\n",
    "### Note\n",
    "\n",
    "* You can use the module `random` for this question, and you are allowed to read the [official document about `random`](https://docs.python.org/3/library/random.html) to find the right function(s) to use, and how to use them\n",
    "* Make sure the number of trials to estimate the probability via simulation is large enough to provide a good estimate of the probability\n",
    "* `sorted()` or `.sort()` is _not_ allowed in this question. No sorting is needed for this question\n",
    "* You can modularise your code to some `.py` file(s) _if you want to_ (not a requirement)"
   ]
  }
 ],
 "metadata": {
  "kernelspec": {
   "display_name": "Python 3 (ipykernel)",
   "language": "python",
   "name": "python3"
  },
  "language_info": {
   "codemirror_mode": {
    "name": "ipython",
    "version": 3
   },
   "file_extension": ".py",
   "mimetype": "text/x-python",
   "name": "python",
   "nbconvert_exporter": "python",
   "pygments_lexer": "ipython3",
   "version": "3.11.5"
  }
 },
 "nbformat": 4,
 "nbformat_minor": 5
}
