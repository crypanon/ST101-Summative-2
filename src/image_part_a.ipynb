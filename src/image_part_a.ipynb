{
 "cells": [
  {
   "cell_type": "markdown",
   "id": "e04281af",
   "metadata": {},
   "source": [
    "## Q3a. image (30 marks)\n",
    "\n",
    "### Background information\n",
    "\n",
    "Question 3 is inspired by [Andy Warhol](https://www.britannica.com/biography/Andy-Warhol)'s repetitive painting in garish colours. Here are some examples of his art works:\n",
    "\n",
    "* [Marilyn Diptych](https://en.wikipedia.org/wiki/Marilyn_Diptych)\n",
    "\n",
    "<img src=\"../figs/marilyn_diptych.jpeg\"/>\n",
    "\n",
    "The painting was created using a promotional photograph of Marilyn Monroe and transferred onto silkscreen print using different colours. Original photo:\n",
    "\n",
    "<img src=\"../figs/monroe_in_niagara.jpeg\" width=100/>\n",
    "\n",
    "\n",
    "* [Campbell's Soup Cans](https://en.wikipedia.org/wiki/Campbell%27s_Soup_Cans)\n",
    "\n",
    "\n",
    "<img src=\"../figs/soup_cans.jpeg\"/>\n",
    "\n",
    "It consists of 32 canvases, each consisting of a painting of a Campbell's Soup can - one of each of the canned soup varieties the company offered at the time. The works were Warhol's hand-painted depictions of printed imagery deriving from commercial products and popular culture and belong to the pop art movement\n",
    "\n",
    "(Information and all images are from Wikipedia)\n",
    "\n",
    "Ultimately, we want to create a \"painting\" like the following via `NumPy` with only a few colours:\n",
    "\n",
    "<img src=\"../figs/purple_soup.png\" width=300/>\n",
    "\n",
    "Using a photograph like the following:\n",
    "\n",
    "<img src=\"../data/soup_can.jpg\" width=100/>"
   ]
  },
  {
   "cell_type": "markdown",
   "id": "bf2761de",
   "metadata": {},
   "source": [
    "---\n",
    "\n",
    "### Images use in this question\n",
    "\n",
    "We will make use of the two images stored in the `data` folder in the problem set repository:\n",
    "\n",
    "* LSE image from `lse.jpg`:\n",
    "\n",
    "<img src=\"../data/lse.jpg\" width=300/>\n",
    "\n",
    "* Soup can image from `soup_can.jpg`:\n",
    "\n",
    "<img src=\"../data/soup_can.jpg\" width=150/>\n",
    "\n",
    "---"
   ]
  },
  {
   "cell_type": "markdown",
   "id": "84e07aa2",
   "metadata": {},
   "source": [
    "### Instructions\n",
    "\n",
    "In part a, we work on some \"simpler\" parts and/or some simplified versions of the original problem:"
   ]
  },
  {
   "cell_type": "markdown",
   "id": "738383dc",
   "metadata": {},
   "source": [
    "1. (3 marks) Update the function `show()` in `image_util.py` so that it checks if the given argument is \"non-empty 3d numpy ndarray with dtype np.uint8\" as stated in the docstring. Raise appropriate types of exceptions if the preconditions are not satisfied. Your code should be added after the docstring and before the first line of code (i.e. before `dpi = 120`)\n",
    "\n",
    "---"
   ]
  },
  {
   "cell_type": "markdown",
   "id": "2b9d56ae",
   "metadata": {},
   "source": [
    "2. (6 marks) In `image_util.py`, write the function definition for the function `repetition()` to create an image with the given image repeated. \n",
    "\n",
    "    The function takes an image (non-empty 3d `np.ndarray` with dtype `np.uint8`), a positive integer (`m`) to represent the number of \"rows\" and a positive integer (`n`) to represent the number of \"columns\" the image repeated. The function returns a _new_ image (3d `np.ndarray` with dtype `np.uint8`) with the given image repeated $m \\times n$ times. If the original 3d np.ndarray has the shape `(h, w, 3)`, the return 3d `np.ndarray` has the shape `(h*m, w*n, 3)`. \n",
    "\n",
    "    * Note: \n",
    "        * You can have a small number of iterations (e.g. iterate over `range(n)`), but no large number of iterations (e.g. iterate over each pixel of the given image) is needed\n",
    "        * The image given as an argument should not be changed\n",
    "    * Example usage:\n",
    "\n",
    "    <img src=\"../figs/demo_repeat.png\" width=1000/>"
   ]
  },
  {
   "cell_type": "markdown",
   "id": "e6dd78c2",
   "metadata": {},
   "source": [
    "3. (10 marks) Write the function definition for the function `apply_simple_filter()` to replace the colour of a given image with the two given colours. \n",
    "\n",
    "    The function takes an image (non-empty 3d `np.ndarray` with dtype `np.uint8`), a 1d `np.ndarray` with dtype `np.uint8` with length 3 to represent the RGB of the first colour, and a 1d `np.ndarray` with dtype `np.uint8` with length 3 to represent the RGB of the second colour. \n",
    "\n",
    "    The function returns a _new_ image (3d `np.ndarray` with dtype `np.uint8`) that is similar to the original image and has the same size as it, but with the colours of the image replaced by the given colours. For each pixel, its colour is replaced by the closest out of the given two colours in terms of Euclidean distance, for which the formula is:\n",
    "\n",
    "    $$ dist((x_1, y_1, z_1), (x_2, y_2, z_2)) = \\sqrt{(x_1 - x_2)^2 + (y_1 - y_2)^2 + (z_1 - z_2)^2}$$\n",
    "\n",
    "    The shape of the returned `np.ndarray` is the same as the given images. If there is a tie in terms of the distance, any of the closest colours can be used.\n",
    "\n",
    "    * Illustrative example about calculating the distance and selecting the colour based on it: \n",
    "        * Suppose the first given colour has RGB(0, 1, 2), the second given colour has RGB(0, 180, 255), and the pixel of interest has RGB(214, 234, 248)\n",
    "            * The distance between the pixel and the first given colour is:\n",
    "            $$ dist((214, 234, 248),(0, 1, 2)) = \\sqrt{(214 - 0)^2 + (234 - 1)^2 + (248 - 2)^2} = 400.75$$\n",
    "\n",
    "            * The distance between the pixel and the second given colour is:\n",
    "            $$ dist((214, 234, 248),(0, 180, 255)) = \\sqrt{(214 - 0)^2 + (234 - 180)^2 + (248 - 255)^2} = 220.8$$\n",
    "\n",
    "            * As the pixel is closer to the second given colour out of the 2 given colours, it will be replaced by the second given colour\n",
    "\n",
    "    * Note: \n",
    "        * No loop is needed, or at most very small number of iterations is needed for this part of the question\n",
    "         * The image given as an argument should not be changed\n",
    "\n",
    "    * Example usage:\n",
    "\n",
    "    <img src=\"../figs/demo_simple_filter.png\" width=1000/>\n",
    "\n",
    "    * Your implementation:"
   ]
  },
  {
   "cell_type": "code",
   "execution_count": 2,
   "id": "74886998",
   "metadata": {},
   "outputs": [],
   "source": [
    "## please write the function definition for apply_simple_filter() here"
   ]
  },
  {
   "cell_type": "markdown",
   "id": "2ebe9ad2",
   "metadata": {},
   "source": [
    "4. (8 marks) Write the function definition for the function `apply_simple_filter_loop()` for which it takes the same arguments and returns the same value as `apply_simple_filter()`, but it iterates over each pixel instead of using vectorised operations when finding the colours to replace and replacing the colours. Call both `apply_simple_filter()` and `apply_simple_filter_loop()` with the same image (e.g. the lse image provided) as the argument and time the execution time (e.g. by using the module `time`, `datetime` or [`timeit`](https://ipython.readthedocs.io/en/stable/interactive/magics.html#magic-timeit)). How is the execution time different?"
   ]
  },
  {
   "cell_type": "code",
   "execution_count": null,
   "id": "c3f99d50",
   "metadata": {},
   "outputs": [],
   "source": [
    "## Please write the function definition for apply_simple_filter_loop() here, \n",
    "## and also the code to compare the execution time\n",
    "## Feel free to add more code cell if needed"
   ]
  },
  {
   "cell_type": "markdown",
   "id": "bc353547",
   "metadata": {},
   "source": [
    "(please put your textual answer for how the execution time is different here)"
   ]
  },
  {
   "cell_type": "markdown",
   "id": "f08d2303",
   "metadata": {},
   "source": [
    "---\n",
    "\n",
    "5. (3 marks) Please load in some images, apply functions written in parts 2 and 3 to the images, and display them"
   ]
  },
  {
   "cell_type": "code",
   "execution_count": null,
   "id": "ff156606",
   "metadata": {},
   "outputs": [],
   "source": [
    "## your code"
   ]
  },
  {
   "cell_type": "markdown",
   "id": "6512e9b3",
   "metadata": {},
   "source": [
    "---\n",
    "\n",
    "## Requirements\n",
    "\n",
    "* You cannot use any modules and libraries (except `NumPy`) to answer this question\n",
    "* This question is designed to assess your ability to manipulate `NumPy` array with vectorised operations and indexing/slicing - therefore, please use `NumPy` and vectorise operations _wherever appropriate and possible_, unless it is stated otherwise in the question\n",
    "* You can only use functionalities from `NumPy` that have been demonstrated in the course (lecture, workshop, problem set 7), except it is stated otherwise in the question"
   ]
  }
 ],
 "metadata": {
  "kernelspec": {
   "display_name": "Python 3 (ipykernel)",
   "language": "python",
   "name": "python3"
  },
  "language_info": {
   "codemirror_mode": {
    "name": "ipython",
    "version": 3
   },
   "file_extension": ".py",
   "mimetype": "text/x-python",
   "name": "python",
   "nbconvert_exporter": "python",
   "pygments_lexer": "ipython3",
   "version": "3.8.13"
  }
 },
 "nbformat": 4,
 "nbformat_minor": 5
}
